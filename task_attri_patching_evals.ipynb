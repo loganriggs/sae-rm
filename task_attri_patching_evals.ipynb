{
 "cells": [
  {
   "cell_type": "code",
   "execution_count": 1,
   "metadata": {},
   "outputs": [
    {
     "name": "stderr",
     "output_type": "stream",
     "text": [
      "/root/dictionary_learning/logan/lib/python3.10/site-packages/tqdm/auto.py:21: TqdmWarning: IProgress not found. Please update jupyter and ipywidgets. See https://ipywidgets.readthedocs.io/en/stable/user_install.html\n",
      "  from .autonotebook import tqdm as notebook_tqdm\n"
     ]
    },
    {
     "name": "stdout",
     "output_type": "stream",
     "text": [
      "Calculating KL overall on 15360 tokens\n"
     ]
    }
   ],
   "source": [
    "from nnsight import LanguageModel\n",
    "from transformers import AutoModelForCausalLM, AutoTokenizer\n",
    "import torch as t\n",
    "from task_patching_utils import *\n",
    "import sys\n",
    "sys.path.append(\"/root/dictionary_learning/\")\n",
    "from dictionary import AutoEncoder\n",
    "\n",
    "# Model Name\n",
    "model_name = \"EleutherAI/pythia-70m-deduped\"\n",
    "device = t.device(\"cuda\" if t.cuda.is_available() else \"cpu\")\n",
    "\n",
    "# module_name\n",
    "layer = 5\n",
    "module_name = f\"gpt_neox.layers.{layer}\"\n",
    "# module_name = f\"gpt_neox.layers.{layer}.mlp\"\n",
    "# module_name = f\"gpt_neox.layers.{layer}.attention\"\n",
    "\n",
    "# Attribution Patching\n",
    "top_k_features = 100\n",
    "\n",
    "# Task\n",
    "task = \"gender\"\n",
    "num_datapoints = 32 # Could go higher if we can batch attrib_effect()\n",
    "\n",
    "# Overall Dataset\n",
    "dataset_name = \"stas/openwebtext-10k\"\n",
    "ctx_length = 256\n",
    "batch_size = 6\n",
    "total_batches = 10 # We calculate KL overall over this many batches\n",
    "print(f\"Calculating KL overall on {ctx_length*batch_size*total_batches} tokens\")\n",
    "\n",
    "# Patching\n",
    "tracer_kwargs = {'validate' : False, 'scan' : False}\n",
    "\n",
    "#SAEs\n",
    "# sae_locations = [f\"/root/dictionary_learning/dictionaries/pythia-70m-deduped/mlp_out_layer{layer}/{training_ind}_32768/ae.pt\" for training_ind in [\"1\", \"5\", \"10\"]]\n",
    "sae_locations = [f\"/root/dictionary_learning/dictionaries/pythia-70m-deduped/resid_out_layer{layer}/{training_ind}_32768/ae.pt\" for training_ind in [\"5\", \"10\"]]\n",
    "# sae_locations = [f\"/root/dictionary_learning/dictionaries/pythia-70m-deduped/attn_out_layer{layer}/{training_ind}_32768/ae.pt\" for training_ind in [\"5\", \"10\"]]\n",
    "# sae_locations = [\"random\"] + [f\"/root/dictionary_learning/dictionaries/pythia-70m-deduped/resid_out_layer{layer}/{training_ind}_32768/ae.pt\" for training_ind in [\"5\", \"10\"]]"
   ]
  },
  {
   "cell_type": "markdown",
   "metadata": {},
   "source": [
    "# Outline\n",
    "- Load model\n",
    "- Load Dataset (Task & Overall)\n",
    "- loop over SAEs\n",
    "- Plot"
   ]
  },
  {
   "cell_type": "code",
   "execution_count": 2,
   "metadata": {},
   "outputs": [
    {
     "name": "stderr",
     "output_type": "stream",
     "text": [
      "Special tokens have been added in the vocabulary, make sure the associated word embeddings are fine-tuned or trained.\n",
      "Special tokens have been added in the vocabulary, make sure the associated word embeddings are fine-tuned or trained.\n"
     ]
    }
   ],
   "source": [
    "# Load Model\n",
    "model = LanguageModel(\n",
    "    model_name,\n",
    "    device_map = device,\n",
    "    dispatch = True,\n",
    ")\n",
    "model_hh = AutoModelForCausalLM.from_pretrained(model_name).to(device)\n",
    "tokenizer = AutoTokenizer.from_pretrained(model_name)\n",
    "tokenizer.pad_token = tokenizer.eos_token\n",
    "\n",
    "# Get module by it's name\n",
    "attributes = module_name.split('.')\n",
    "module = model\n",
    "for attr in attributes:\n",
    "    module = getattr(module, attr)"
   ]
  },
  {
   "cell_type": "code",
   "execution_count": 3,
   "metadata": {},
   "outputs": [
    {
     "name": "stdout",
     "output_type": "stream",
     "text": [
      "Calculating KL overall on 15360 tokens\n"
     ]
    },
    {
     "name": "stderr",
     "output_type": "stream",
     "text": [
      "/root/dictionary_learning/logan/lib/python3.10/site-packages/datasets/load.py:1486: FutureWarning: The repository for stas/openwebtext-10k contains custom code which must be executed to correctly load the dataset. You can inspect the repository content at https://hf.co/datasets/stas/openwebtext-10k\n",
      "You can avoid this message in future by passing the argument `trust_remote_code=True`.\n",
      "Passing `trust_remote_code=True` will be mandatory to load this dataset from the next major release of `datasets`.\n",
      "  warnings.warn(\n",
      "Downloading builder script: 100%|██████████| 3.08k/3.08k [00:00<00:00, 16.8MB/s]\n",
      "Downloading metadata: 100%|██████████| 1.33k/1.33k [00:00<00:00, 8.72MB/s]\n",
      "Downloading readme: 100%|██████████| 951/951 [00:00<00:00, 6.84MB/s]\n",
      "Repo card metadata block was not found. Setting CardData to empty.\n",
      "Downloading data: 100%|██████████| 14.7M/14.7M [00:00<00:00, 73.0MB/s]\n",
      "/root/dictionary_learning/logan/lib/python3.10/site-packages/datasets/download/download_manager.py:400: FutureWarning: 'num_proc' was deprecated in version 2.6.2 and will be removed in 3.0.0. Pass `DownloadConfig(num_proc=<num_proc>)` to the initializer instead.\n",
      "  warnings.warn(\n",
      "Generating train split: 100%|██████████| 10000/10000 [00:00<00:00, 11554.85 examples/s]\n",
      "Map (num_proc=6): 100%|██████████| 10000/10000 [00:16<00:00, 599.79 examples/s] \n"
     ]
    }
   ],
   "source": [
    "from task_patching_utils import *\n",
    "# Overall Dataset\n",
    "dataset_name = \"stas/openwebtext-10k\"\n",
    "ctx_length = 256\n",
    "batch_size = 6\n",
    "total_batches = 10 # We calculate KL overall over this many batches\n",
    "print(f\"Calculating KL overall on {ctx_length*batch_size*total_batches} tokens\")\n",
    "\n",
    "# load dataset\n",
    "overall_dataset_dl = load_overall_dataset(dataset_name, tokenizer, ctx_length, batch_size, shuffle=False)"
   ]
  },
  {
   "cell_type": "code",
   "execution_count": 4,
   "metadata": {},
   "outputs": [],
   "source": [
    "from torch.utils.data import DataLoader\n",
    "# load task dataset\n",
    "# TODO: We might want to loop over tasks as well in the inner loop of looping SAEs\n",
    "task_function = get_task_function(task)\n",
    "\n",
    "clean_text, patched_text, clean_labels, patched_labels = task_function(num_datapoints)\n",
    "tokenized_clean_text, target_token_position_clean, token_clean_labels = tokenize_task_data(clean_text, clean_labels, tokenizer)\n",
    "tokenized_patched_text, target_token_position_patched, token_patched_labels = tokenize_task_data(patched_text, patched_labels, tokenizer)\n",
    "\n",
    "tokenized_clean_text_dl = DataLoader(tokenized_clean_text, batch_size=batch_size, shuffle=False)\n",
    "tokenized_patched_text_dl = DataLoader(tokenized_patched_text, batch_size=batch_size, shuffle=False)"
   ]
  },
  {
   "cell_type": "code",
   "execution_count": 5,
   "metadata": {},
   "outputs": [
    {
     "data": {
      "text/plain": [
       "[' Ken left the documents on the table before',\n",
       " ' When the alarm rang, Erik was already prepared because',\n",
       " ' Mike played the guitar, and everyone listened until',\n",
       " ' During the party, Noah sang beautifully until',\n",
       " ' After the lecture, Juan quickly left the room as',\n",
       " ' On the trip, Jimmy took many photos before',\n",
       " ' After finishing the book, Adam felt quite emotional as',\n",
       " ' After the lecture, Henry quickly left the room as',\n",
       " ' During the party, Noah sang beautifully until',\n",
       " ' In the meeting, John gave an opinion and then',\n",
       " ' In the meeting, Lucas gave an opinion and then',\n",
       " ' On the trip, Carlos took many photos before',\n",
       " ' Next to the window, Erik set up the workspace and soon',\n",
       " ' Adam finished the presentation, and everyone applauded as',\n",
       " ' When the alarm rang, Richard was already prepared because',\n",
       " ' Noah wrote a new blog post, and right after publishing it',\n",
       " ' Juan called their friends, and soon',\n",
       " ' Noah left the documents on the table before',\n",
       " ' Once the game was over, Will shook hands and then',\n",
       " ' During the party, Will sang beautifully until',\n",
       " ' On the trip, Richard took many photos before',\n",
       " ' In the meeting, Noah gave an opinion and then',\n",
       " ' Ken called their friends, and soon',\n",
       " ' Adam wrote a new blog post, and right after publishing it',\n",
       " ' John played the guitar, and everyone listened until',\n",
       " ' Mike received the package, and then',\n",
       " ' Mike played the guitar, and everyone listened until',\n",
       " ' In the meeting, Henry gave an opinion and then',\n",
       " ' Next to the window, Richard set up the workspace and soon',\n",
       " ' Next to the window, Jimmy set up the workspace and soon',\n",
       " ' Mike found the keys on the counter before',\n",
       " ' Carlos wrote a new blog post, and right after publishing it']"
      ]
     },
     "execution_count": 5,
     "metadata": {},
     "output_type": "execute_result"
    }
   ],
   "source": [
    "clean_text"
   ]
  },
  {
   "cell_type": "code",
   "execution_count": 6,
   "metadata": {},
   "outputs": [],
   "source": [
    "# def overall_kl(model, kl_data_dataloader, ae, features, activation_name, total_batches=10):\n",
    "#     kl_losses = t.zeros(len(features))\n",
    "#     with t.no_grad():\n",
    "#         for feature_ind, feature in enumerate(tqdm(features)):\n",
    "#             hook_function = partial(sae_ablation, features=[feature.item()], sae=ae)\n",
    "#             for batch_ind, batch in enumerate(kl_data_dataloader):\n",
    "#                 if(batch_ind >= total_batches):\n",
    "#                     break\n",
    "#                 with Trace(model, activation_name, edit_output=hook_function) as ret:\n",
    "#                     edited_logits = model(batch.to(model.device)).logits\n",
    "#                 original_logits = model(batch.to(model.device)).logits\n",
    "#                 return edited_logits, original_logits\n",
    "#                 kl_div_value = kl_div(original_logits, edited_logits, log_target=True, reduction=\"batchmean\")\n",
    "#                 kl_losses[feature_ind] += kl_div_value.item()\n",
    "#         kl_losses /= total_batches\n",
    "#     return kl_losses\n",
    "# sae = AutoEncoder.from_pretrained(sae_location).to(device)\n",
    "# o_log, e_log = overall_kl(model_hh, overall_dataset_dl, sae, top_features, module_name, total_batches=total_batches)"
   ]
  },
  {
   "cell_type": "code",
   "execution_count": 7,
   "metadata": {},
   "outputs": [],
   "source": [
    "# batch_mean_both_log = kl_div(o_log.log_softmax(dim=-1), e_log.log_softmax(dim=-1), log_target=True, reduction=\"none\")\n",
    "# # batch_mean_both_log = kl_div(o_log.log_softmax(dim=-1), e_log.log_softmax(dim=-1), log_target=True, reduction=\"sum\")\n",
    "# batch_mean_one_log = kl_div(o_log.log_softmax(-1), e_log, reduction=\"none\")\n",
    "# print(f\"Batch Mean KL Divergence (both log): {batch_mean_both_log}\")\n",
    "# print(f\"Batch Mean KL Divergence (one log): {batch_mean_one_log}\")"
   ]
  },
  {
   "cell_type": "code",
   "execution_count": 8,
   "metadata": {},
   "outputs": [],
   "source": [
    "# batch_mean_both_log.sum(-1).mean(), batch_mean_both_log.mean(), kl_div(o_log.log_softmax(dim=-1), e_log.log_softmax(dim=-1), log_target=True, reduction=\"sum\")\n"
   ]
  },
  {
   "cell_type": "code",
   "execution_count": 9,
   "metadata": {},
   "outputs": [],
   "source": [
    "# # this is the same example in wiki\n",
    "# P = t.Tensor([0.36, 0.48, 0.16])\n",
    "# Q = t.Tensor([0.333, 0.333, 0.333])\n",
    "\n",
    "# (P * (P / Q).log()).sum(), kl_div(Q.log(), P, None, None, 'sum'), kl_div(Q.log(), P, None, None, reduction=\"none\")"
   ]
  },
  {
   "cell_type": "code",
   "execution_count": 10,
   "metadata": {},
   "outputs": [
    {
     "name": "stderr",
     "output_type": "stream",
     "text": [
      "  0%|          | 0/2 [00:00<?, ?it/s]You're using a GPTNeoXTokenizerFast tokenizer. Please note that with a fast tokenizer, using the `__call__` method is faster than using a method to encode the text followed by a call to the `pad` method to get a padded encoding.\n",
      "100%|██████████| 100/100 [00:00<00:00, 170.95it/s]\n",
      "100%|██████████| 100/100 [00:00<00:00, 179.12it/s]\n",
      "100%|██████████| 100/100 [00:00<00:00, 178.17it/s]\n",
      "100%|██████████| 100/100 [00:00<00:00, 178.28it/s]\n",
      "100%|██████████| 100/100 [00:00<00:00, 179.02it/s]\n",
      "100%|██████████| 100/100 [00:00<00:00, 204.06it/s]\n",
      "100%|██████████| 100/100 [00:50<00:00,  1.99it/s]\n",
      "100%|██████████| 100/100 [00:00<00:00, 174.26it/s]\n",
      "100%|██████████| 100/100 [00:00<00:00, 173.77it/s]\n",
      "100%|██████████| 100/100 [00:00<00:00, 174.04it/s]\n",
      "100%|██████████| 100/100 [00:00<00:00, 178.49it/s]\n",
      "100%|██████████| 100/100 [00:00<00:00, 177.99it/s]\n",
      "100%|██████████| 100/100 [00:00<00:00, 205.66it/s]\n",
      "100%|██████████| 100/100 [00:50<00:00,  1.97it/s]\n",
      "100%|██████████| 2/2 [01:50<00:00, 55.20s/it]\n"
     ]
    }
   ],
   "source": [
    "features_per_sae = []\n",
    "task_kl_per_sae = []\n",
    "overall_kl_per_sae = []\n",
    "\n",
    "# def overall_kl(model, kl_data_dataloader, ae, features, activation_name, total_batches=10):\n",
    "#     kl_losses = t.zeros(len(features))\n",
    "#     with t.no_grad():\n",
    "#         for feature_ind, feature in enumerate(tqdm(features)):\n",
    "#             hook_function = partial(sae_ablation, features=[feature.item()], sae=ae)\n",
    "#             for batch_ind, batch in enumerate(kl_data_dataloader):\n",
    "#                 if(batch_ind >= total_batches):\n",
    "#                     break\n",
    "#                 with Trace(model, activation_name, edit_output=hook_function) as ret:\n",
    "#                     edited_logits = model(batch.to(model.device)).logits.log_softmax(dim=-1)\n",
    "#                 original_logits = model(batch.to(model.device)).logits.log_softmax(dim=-1)\n",
    "#                 kl_div_value = kl_div(\n",
    "#                     original_logits, \n",
    "#                     edited_logits, \n",
    "#                     log_target=True, \n",
    "#                     reduction=\"none\",\n",
    "#                 ).sum(dim=-1)\n",
    "#                 # find location of max_kl_div\n",
    "#                 max_kl_val, max_kl_ind = kl_div_value.reshape(-1).topk(3)\n",
    "#                 # now decode the token at that position\n",
    "#                 batch_reshaped = batch.reshape(-1)\n",
    "#                 # print(max_kl_ind)\n",
    "#                 # print(batch_reshaped)\n",
    "#                 max_kl_tokens = tokenizer.batch_decode(batch_reshaped[max_kl_ind.cpu()])\n",
    "#                 # print(f\"Max KL Divergence: {max_kl_val}\")\n",
    "#                 # print(f\"Max KL Tokens: {max_kl_tokens}\")\n",
    "#                 kl_losses[feature_ind] += kl_div_value.mean().item()\n",
    "#                 # print(f\"Max KL Divergence: {max_kl}\")\n",
    "#                 # kl_losses[feature_ind] += kl_div_value.item()\n",
    "#         kl_losses /= total_batches\n",
    "#     return kl_losses\n",
    "\n",
    "# Load saes\n",
    "for sae_location in tqdm(sae_locations):\n",
    "    if(sae_location == \"random\"):\n",
    "        # d_model = model_hh.config.d_model\n",
    "        d_model = 512\n",
    "        num_features = 32768\n",
    "        sae = AutoEncoder(d_model, num_features).to(device)\n",
    "    else:\n",
    "        sae = AutoEncoder.from_pretrained(sae_location).to(device)\n",
    "    #TODO: below is awkard for our purpose. Maybe refactor\n",
    "    dictionaries = {}\n",
    "    submodule_names = {}\n",
    "    submodule_names[module] = module_name\n",
    "    dictionaries[module] = sae\n",
    "    submodules = [module]\n",
    "\n",
    "    # Patching\n",
    "    # TODO: patching effect doesn't take into account the correct positions given padding\n",
    "    # Add token positions to metric_kwargs\n",
    "    effects, _, _, total_effect = patching_effect(\n",
    "        clean_text,\n",
    "        patched_text,\n",
    "        model,\n",
    "        submodules = submodules,\n",
    "        dictionaries = dictionaries,\n",
    "        tracer_kwargs=tracer_kwargs,\n",
    "        metric_fn = logit_diff_metric,\n",
    "        metric_kwargs={'clean_answers': token_clean_labels, 'patch_answers': token_patched_labels},\n",
    "    )\n",
    "    for submodule in submodules:\n",
    "        effects[submodule] = effects[submodule].act\n",
    "    module_effect = effects[module]\n",
    "    # Sum over all datapoints & positions\n",
    "    top_val, top_features = module_effect.sum(0).sum(0).topk(top_k_features)\n",
    "    # top_threshold = 0.9\n",
    "    # top_thresh_effect_features = ((top_val.cumsum(0) / top_val.sum()) > top_threshold).nonzero()[0][0].item()\n",
    "    # top_features = top_features[:top_thresh_effect_features]\n",
    "    # top_features = top_features[:3]\n",
    "    # print(\"90\\% of effect is in top\", top_thresh_effect_features, \"features\")\n",
    "    kl_task_losses = task_kl(model_hh, tokenized_clean_text_dl,  target_token_position_clean,  sae, top_features, module_name)\n",
    "    kl_overall_losses = overall_kl(model_hh, overall_dataset_dl, sae, top_features, module_name, total_batches=total_batches)\n",
    "    \n",
    "    features_per_sae.append(top_features)\n",
    "    task_kl_per_sae.append(kl_task_losses)\n",
    "    overall_kl_per_sae.append(kl_overall_losses)\n",
    "\n",
    "    # Save to file\n",
    "    # Create folder okay\n",
    "    import os\n",
    "    folder = f\"results/{model_name}/{module_name}/\"\n",
    "    os.makedirs(folder, exist_ok=True)\n",
    "    if(sae_location == \"random\"):\n",
    "        sae_name = \"random\"\n",
    "    else:\n",
    "        sae_name = sae_location.split(\"/\")[-2]\n",
    "    file_name_prefix = f\"{sae_name}_{sae_name}\"\n",
    "    t.save(top_features, f\"{folder}{file_name_prefix}_features.pt\")\n",
    "    t.save(kl_task_losses, f\"{folder}{file_name_prefix}_task_kl.pt\")\n",
    "    t.save(kl_overall_losses, f\"{folder}{file_name_prefix}_overall_kl.pt\")"
   ]
  },
  {
   "cell_type": "code",
   "execution_count": 11,
   "metadata": {},
   "outputs": [
    {
     "ename": "NameError",
     "evalue": "name 'top_threshold' is not defined",
     "output_type": "error",
     "traceback": [
      "\u001b[0;31m---------------------------------------------------------------------------\u001b[0m",
      "\u001b[0;31mNameError\u001b[0m                                 Traceback (most recent call last)",
      "Cell \u001b[0;32mIn[11], line 1\u001b[0m\n\u001b[0;32m----> 1\u001b[0m top_thresh_effect_features \u001b[38;5;241m=\u001b[39m ((top_val\u001b[38;5;241m.\u001b[39mcumsum(\u001b[38;5;241m0\u001b[39m) \u001b[38;5;241m/\u001b[39m top_val\u001b[38;5;241m.\u001b[39msum()) \u001b[38;5;241m>\u001b[39m \u001b[43mtop_threshold\u001b[49m)\u001b[38;5;241m.\u001b[39mnonzero()[\u001b[38;5;241m0\u001b[39m][\u001b[38;5;241m0\u001b[39m]\u001b[38;5;241m.\u001b[39mitem()\n\u001b[1;32m      2\u001b[0m top_thresh_effect_features\n",
      "\u001b[0;31mNameError\u001b[0m: name 'top_threshold' is not defined"
     ]
    }
   ],
   "source": [
    "top_thresh_effect_features = ((top_val.cumsum(0) / top_val.sum()) > top_threshold).nonzero()[0][0].item()\n",
    "top_thresh_effect_features"
   ]
  },
  {
   "cell_type": "code",
   "execution_count": null,
   "metadata": {},
   "outputs": [
    {
     "data": {
      "text/plain": [
       "25"
      ]
     },
     "execution_count": 12,
     "metadata": {},
     "output_type": "execute_result"
    }
   ],
   "source": [
    "val = module_effect.sum(0).sum(0).topk(100).values\n",
    "top_threshold = 0.9\n",
    "top_thresh_effect_features = ((val.cumsum(0) / val.sum()) > top_threshold).nonzero()[0][0].item()\n",
    "top_thresh_effect_features"
   ]
  },
  {
   "cell_type": "code",
   "execution_count": null,
   "metadata": {},
   "outputs": [
    {
     "data": {
      "text/plain": [
       "tensor([26074, 10643, 14088], device='cuda:0')"
      ]
     },
     "execution_count": 13,
     "metadata": {},
     "output_type": "execute_result"
    }
   ],
   "source": [
    "top_features"
   ]
  },
  {
   "cell_type": "code",
   "execution_count": 12,
   "metadata": {},
   "outputs": [
    {
     "name": "stderr",
     "output_type": "stream",
     "text": [
      "/tmp/ipykernel_186489/2612172964.py:34: UserWarning: Attempt to set non-positive xlim on a log-scaled axis will be ignored.\n",
      "  plt.xlim(min_lim, max_lim)\n",
      "/tmp/ipykernel_186489/2612172964.py:35: UserWarning: Attempt to set non-positive ylim on a log-scaled axis will be ignored.\n",
      "  plt.ylim(min_lim, max_lim)\n"
     ]
    },
    {
     "data": {
      "image/png": "[encoded data removed]",
      "text/plain": [
       "<Figure size 640x480 with 1 Axes>"
      ]
     },
     "metadata": {},
     "output_type": "display_data"
    }
   ],
   "source": [
    "import numpy as np\n",
    "from matplotlib import pyplot as plt\n",
    "for sae_ind, (kl_task_losses, kl_overall_losses) in enumerate(zip(task_kl_per_sae, overall_kl_per_sae)):\n",
    "    if(sae_locations[sae_ind] == \"random\"):\n",
    "        sae_name = \"random\"\n",
    "    else:\n",
    "        sae_name = sae_locations[sae_ind].split(\"/\")[-2]\n",
    "    plt.scatter(kl_task_losses, kl_overall_losses, label=f\"{sae_name}\", alpha=0.5)\n",
    "# plt.scatter(att_pathing_pos_kl_task, att_pathing_pos_kl_overall, label=f\"Top {top_k} Pos-3 Features\", alpha=0.5, color=\"cyan\")\n",
    "# plt.scatter(all_kl_task_losses, all_kl_overall_losses, label=\"All Features\", alpha=0.5, color=\"blue\")\n",
    "plt.xlabel(\"KL-Div for Task\")\n",
    "plt.ylabel(\"KL-Div for Dataset\")\n",
    "plt.title(\"KL Divergence: Gendered Names dataset\")\n",
    "# log both axes\n",
    "# Log scale for both axes\n",
    "plt.yscale(\"log\")\n",
    "plt.xscale(\"log\")\n",
    "\n",
    "# Determine the global min and max for setting identical and suitable axes limits\n",
    "# all_data = np.concatenate([att_patching_kl_task_losses, att_patching_kl_overall_losses, att_pathing_pos_kl_task, att_pathing_pos_kl_overall])\n",
    "min= 1000\n",
    "max= -1\n",
    "for sae_ind, (kl_task_losses, kl_overall_losses) in enumerate(zip(task_kl_per_sae, overall_kl_per_sae)):\n",
    "    min = np.min([min, kl_task_losses.min(), kl_overall_losses.min()])\n",
    "    max = np.max([max, kl_task_losses.max(), kl_overall_losses.max()])\n",
    "all_data = np.concatenate([kl_task_losses, kl_overall_losses])\n",
    "\n",
    "# min_lim = np.min(all_data)\n",
    "# max_lim = np.max(all_data)\n",
    "min_lim = min\n",
    "max_lim = max\n",
    "\n",
    "# Set the same limits for both axes\n",
    "plt.xlim(min_lim, max_lim)\n",
    "plt.ylim(min_lim, max_lim)\n",
    "\n",
    "# Plot a diagonal line\n",
    "plt.plot([min_lim, max_lim], [min_lim, max_lim], 'k--', linewidth=1)  # 'k--' is a black dotted line\n",
    "\n",
    "plt.legend()\n",
    "plt.show()"
   ]
  },
  {
   "cell_type": "code",
   "execution_count": 13,
   "metadata": {},
   "outputs": [
    {
     "name": "stdout",
     "output_type": "stream",
     "text": [
      "tensor([2.3247e-04, 5.7674e-05, 5.0611e-05])\n",
      "[31759, 5640, 27955]\n",
      "tensor([2.8260e-04, 5.2241e-05, 1.4822e-06])\n",
      "[6171, 23141, 17303]\n"
     ]
    }
   ],
   "source": [
    "indices_top = []\n",
    "for task_kl, top_f in zip(task_kl_per_sae, features_per_sae):\n",
    "    val, ind = task_kl.topk(3)\n",
    "    print(val)\n",
    "    print(top_f[ind].tolist())\n",
    "    indices_top.append(top_f[ind])"
   ]
  },
  {
   "cell_type": "code",
   "execution_count": 34,
   "metadata": {},
   "outputs": [
    {
     "name": "stderr",
     "output_type": "stream",
     "text": [
      "100%|██████████| 2/2 [00:01<00:00,  1.86it/s]\n"
     ]
    }
   ],
   "source": [
    "saes = []\n",
    "for sae_location in tqdm(sae_locations):\n",
    "    sae = AutoEncoder.from_pretrained(sae_location)\n",
    "    saes.append(sae)\n"
   ]
  },
  {
   "cell_type": "code",
   "execution_count": 56,
   "metadata": {},
   "outputs": [
    {
     "data": {
      "text/plain": [
       "[' his',\n",
       " ' him',\n",
       " ' he',\n",
       " ' Jimmy',\n",
       " ' Bobby',\n",
       " ' Eddie',\n",
       " ' Danny',\n",
       " ' her',\n",
       " ' himself',\n",
       " ' someone',\n",
       " ' everyone',\n",
       " ' Tommy',\n",
       " ' Harry',\n",
       " ' Billy',\n",
       " ' Roger',\n",
       " ' Dick',\n",
       " ' Detective',\n",
       " ' Oliver',\n",
       " ' Jack',\n",
       " ' Walter']"
      ]
     },
     "execution_count": 56,
     "metadata": {},
     "output_type": "execute_result"
    }
   ],
   "source": [
    "# with t.no_grad():\n",
    "f_ind = 23141\n",
    "f_vec = saes[1].decoder.weight.data[:, f_ind]\n",
    "\n",
    "logit_lens = f_vec@model_hh.embed_out.weight.data.cpu().T\n",
    "val, ind = logit_lens.log_softmax(dim=-1).topk(20)\n",
    "# decode ind w/ tokenizer\n",
    "tokenizer.batch_decode(ind)"
   ]
  },
  {
   "cell_type": "code",
   "execution_count": null,
   "metadata": {},
   "outputs": [
    {
     "data": {
      "text/plain": [
       "tensor([[0.9046, 0.2002, 0.6884],\n",
       "        [0.3471, 0.5057, 0.4131],\n",
       "        [0.4177, 0.5547, 0.5127]])"
      ]
     },
     "execution_count": 17,
     "metadata": {},
     "output_type": "execute_result"
    }
   ],
   "source": [
    "# sae_5 = saes[1]\n",
    "sae_5 = saes[0]\n",
    "sae_10 = saes[1]\n",
    "# ind_5 = indices_top[1]\n",
    "ind_5 = indices_top[0]\n",
    "ind_10 = indices_top[1]\n",
    "sae_5_f = sae_5.decoder.weight.data[:, ind_5.cpu()] # shape 512, 2\n",
    "sae_10_f = sae_10.decoder.weight.data[:, ind_10.cpu()]\n",
    "# multiply both together to get a 2x2 cos sim (they are both normed already )\n",
    "cos_sim = sae_5_f.T @ sae_10_f\n",
    "cos_sim"
   ]
  },
  {
   "cell_type": "code",
   "execution_count": null,
   "metadata": {},
   "outputs": [
    {
     "ename": "IndexError",
     "evalue": "list index out of range",
     "output_type": "error",
     "traceback": [
      "\u001b[0;31m---------------------------------------------------------------------------\u001b[0m",
      "\u001b[0;31mIndexError\u001b[0m                                Traceback (most recent call last)",
      "Cell \u001b[0;32mIn[18], line 3\u001b[0m\n\u001b[1;32m      1\u001b[0m \u001b[38;5;66;03m# sae_5 = saes[1]\u001b[39;00m\n\u001b[1;32m      2\u001b[0m sae_5 \u001b[38;5;241m=\u001b[39m saes[\u001b[38;5;241m1\u001b[39m]\n\u001b[0;32m----> 3\u001b[0m sae_10 \u001b[38;5;241m=\u001b[39m \u001b[43msaes\u001b[49m\u001b[43m[\u001b[49m\u001b[38;5;241;43m2\u001b[39;49m\u001b[43m]\u001b[49m\n\u001b[1;32m      4\u001b[0m \u001b[38;5;66;03m# ind_5 = indices_top[1]\u001b[39;00m\n\u001b[1;32m      5\u001b[0m ind_5 \u001b[38;5;241m=\u001b[39m indices_top[\u001b[38;5;241m1\u001b[39m]\n",
      "\u001b[0;31mIndexError\u001b[0m: list index out of range"
     ]
    }
   ],
   "source": [
    "# sae_5 = saes[1]\n",
    "sae_5 = saes[1]\n",
    "sae_10 = saes[2]\n",
    "# ind_5 = indices_top[1]\n",
    "ind_5 = indices_top[1]\n",
    "ind_10 = indices_top[2]\n",
    "sae_5_f = sae_5.decoder.weight.data[:, ind_5.cpu()] # shape 512, 2\n",
    "sae_10_f = sae_10.decoder.weight.data[:, ind_10.cpu()]\n",
    "# multiply both together to get a 2x2 cos sim (they are both normed already )\n",
    "cos_sim = sae_5_f.T @ sae_10_f\n",
    "cos_sim"
   ]
  },
  {
   "cell_type": "markdown",
   "metadata": {},
   "source": [
    "#TODO: next\n",
    "1. Grab top features\n",
    "2. ablation & KL for task & overall\n",
    "3. Save data in lists & file\n",
    "4. Plot data"
   ]
  }
 ],
 "metadata": {
  "kernelspec": {
   "display_name": "logan",
   "language": "python",
   "name": "python3"
  },
  "language_info": {
   "codemirror_mode": {
    "name": "ipython",
    "version": 3
   },
   "file_extension": ".py",
   "mimetype": "text/x-python",
   "name": "python",
   "nbconvert_exporter": "python",
   "pygments_lexer": "ipython3",
   "version": "3.10.13"
  }
 },
 "nbformat": 4,
 "nbformat_minor": 2
}

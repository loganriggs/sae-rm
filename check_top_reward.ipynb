{
 "cells": [
  {
   "cell_type": "code",
   "execution_count": 1,
   "metadata": {},
   "outputs": [],
   "source": [
    "# sae_results/ae_layer12/nz_feature_ind.pt sae_results/ae_layer12/total_reward_diff.pt check_top_reward.ipynb\n",
    "import torch\n",
    "ae_name = 'ae_layer12'\n",
    "nz_feature_ind = torch.load(f'sae_results/{ae_name}/nz_feature_ind.pt')\n",
    "total_reward_diff = torch.load(f'sae_results/{ae_name}/total_reward_diff.pt')"
   ]
  },
  {
   "cell_type": "code",
   "execution_count": 2,
   "metadata": {},
   "outputs": [
    {
     "data": {
      "text/plain": [
       "(torch.Size([9180, 10]),\n",
       " tensor([ 9.5367e-07,  9.5367e-07,  5.9605e-07,  9.5367e-07,  9.5367e-07,\n",
       "          1.9073e-06,  0.0000e+00,  2.8610e-06, -2.8610e-06, -1.9073e-06]))"
      ]
     },
     "execution_count": 2,
     "metadata": {},
     "output_type": "execute_result"
    }
   ],
   "source": [
    "total_reward_diff.shape, total_reward_diff[0]"
   ]
  },
  {
   "cell_type": "code",
   "execution_count": 21,
   "metadata": {},
   "outputs": [
    {
     "data": {
      "text/plain": [
       "(tensor(993), tensor(134))"
      ]
     },
     "execution_count": 21,
     "metadata": {},
     "output_type": "execute_result"
    }
   ],
   "source": [
    "pos_only = ((total_reward_diff > 0).sum(-1) == 10)\n",
    "neg_only = ((total_reward_diff < 0).sum(-1) == 10)\n",
    "tmp_reward = total_reward_diff.clone()\n",
    "tmp_reward[~pos_only & ~neg_only] = 0\n",
    "pos_only.sum(), neg_only.sum()"
   ]
  },
  {
   "cell_type": "code",
   "execution_count": 23,
   "metadata": {},
   "outputs": [
    {
     "data": {
      "text/plain": [
       "(torch.return_types.topk(\n",
       " values=tensor([47.1262, 37.1970, 20.3115, 15.5119, 14.2063, 14.1882, 13.2903, 12.4759,\n",
       "         11.4827, 11.4094]),\n",
       " indices=tensor([9173, 5734, 8192,  340, 1998, 8466, 2082, 4854, 6811,  996])),\n",
       " torch.return_types.topk(\n",
       " values=tensor([-40.1438, -33.9029, -12.5370, -12.0577,  -7.9758,  -7.0178,  -6.1965,\n",
       "          -6.0784,  -5.0111,  -4.9518]),\n",
       " indices=tensor([ 695, 6607, 4070, 6427, 1235, 3288, 4888, 5121,  476, 2243])))"
      ]
     },
     "execution_count": 23,
     "metadata": {},
     "output_type": "execute_result"
    }
   ],
   "source": [
    "tmp_reward.sum(-1).topk(10), tmp_reward.sum(-1).topk(10, largest=False)"
   ]
  },
  {
   "cell_type": "code",
   "execution_count": 24,
   "metadata": {},
   "outputs": [],
   "source": [
    "top_ind = tmp_reward.sum(-1).topk(10).indices\n",
    "low_ind = tmp_reward.sum(-1).topk(10, largest=False).indices\n",
    "# pos_only_ind = pos_only[top_ind]\n",
    "# neg_only_ind = neg_only[low_ind]\n",
    "# pos_only_ind, neg_only_ind"
   ]
  },
  {
   "cell_type": "code",
   "execution_count": 20,
   "metadata": {},
   "outputs": [
    {
     "data": {
      "text/plain": [
       "(tensor([992, 613, 890,  29, 208, 918, 216, 512, 737,  93]),\n",
       " torch.Size([9180]))"
      ]
     },
     "execution_count": 20,
     "metadata": {},
     "output_type": "execute_result"
    }
   ],
   "source": [
    "top_ind, pos_only"
   ]
  },
  {
   "cell_type": "code",
   "execution_count": 25,
   "metadata": {},
   "outputs": [
    {
     "data": {
      "text/plain": [
       "(tensor([32744, 20512, 29242,  1197,  6921, 30221,  7234, 17262, 24335,  3498]),\n",
       " tensor([ 2420, 23586, 14450, 22933,  4353, 11612, 17368, 18210,  1625,  7803]))"
      ]
     },
     "execution_count": 25,
     "metadata": {},
     "output_type": "execute_result"
    }
   ],
   "source": [
    "nz_feature_ind[top_ind], nz_feature_ind[low_ind]"
   ]
  },
  {
   "cell_type": "code",
   "execution_count": 14,
   "metadata": {},
   "outputs": [
    {
     "data": {
      "text/plain": [
       "tensor([False, False, False,  ..., False, False, False])"
      ]
     },
     "execution_count": 14,
     "metadata": {},
     "output_type": "execute_result"
    }
   ],
   "source": [
    "neg_only"
   ]
  },
  {
   "cell_type": "code",
   "execution_count": 16,
   "metadata": {},
   "outputs": [
    {
     "data": {
      "text/plain": [
       "torch.return_types.topk(\n",
       "values=tensor([47.1262, 37.1970, 20.3115, 15.5119, 14.2063, 14.1882, 13.2903, 12.4759,\n",
       "        11.4827, 11.4094]),\n",
       "indices=tensor([992, 613, 890,  29, 208, 918, 216, 512, 737,  93]))"
      ]
     },
     "execution_count": 16,
     "metadata": {},
     "output_type": "execute_result"
    }
   ],
   "source": [
    "top_ind"
   ]
  }
 ],
 "metadata": {
  "kernelspec": {
   "display_name": "logan",
   "language": "python",
   "name": "python3"
  },
  "language_info": {
   "codemirror_mode": {
    "name": "ipython",
    "version": 3
   },
   "file_extension": ".py",
   "mimetype": "text/x-python",
   "name": "python",
   "nbconvert_exporter": "python",
   "pygments_lexer": "ipython3",
   "version": "3.10.13"
  }
 },
 "nbformat": 4,
 "nbformat_minor": 2
}
